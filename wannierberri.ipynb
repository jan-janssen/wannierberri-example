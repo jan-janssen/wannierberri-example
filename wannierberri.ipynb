{
 "cells": [
  {
   "cell_type": "code",
   "execution_count": 1,
   "metadata": {},
   "outputs": [
    {
     "name": "stdout",
     "output_type": "stream",
     "text": [
      "\u001b[33m\n",
      ".::    .   .::: .:::::::.  :::.    :::.:::.    :::. :::.,::::::  :::::::..       :::::::.  .,::::::  :::::::..   :::::::..   :::\n",
      "';;,  ;;  ;;;' '  ;;`;;  ` `;;;;,  `;;;`;;;;,  `;;; ;;;;;;;''''  ;;;;``;;;;       ;;;'';;' ;;;;''''  ;;;;``;;;;  ;;;;``;;;;  ;;;\n",
      " '[[, [[, [['    ,[[ '[[,    [[[[[. '[[  [[[[[. '[[ [[[ [[cccc    [[[,/[[['       [[[__[[\\. [[cccc    [[[,/[[['   [[[,/[[['  [[[\n",
      "   Y$c$$$c$P    c$$$cc$$$c   $$$ \"Y$c$$  $$$ \"Y$c$$ $$$ $$\"\"\"\"    $$$$$$c         $$\"\"\"\"Y$$ $$\"\"\"\"    $$$$$$c     $$$$$$c    $$$\n",
      "    \"88\"888      888   888,  888    Y88  888    Y88 888 888oo,__  888b \"88bo,    _88o,,od8P 888oo,__  888b \"88bo, 888b \"88bo,888\n",
      "     \"M \"M\"      YMM   \"\"`   MMM     YM  MMM     YM MMM \"\"\"\"YUMMM MMMM   \"W\"     \"\"YUMMMP\"  \"\"\"\"YUMMM MMMM   \"W\"  MMMM   \"W\" MMM\n",
      "\u001b[0m\n",
      "\u001b[31ma.k.a. Wannier19\u001b[0m\n",
      "                  __                     ___                  \n",
      "        |_       (_  |_  _  _   _   _     |   _ .  _ |  .  _  \n",
      "        |_) \\/   __) |_ (- |_) (_| | )    |  _) | |  |( | | ) \n",
      "            /              |                                  \n",
      "\n",
      "  The Web page is :  HTTP://WANNIER-BERRI.ORG  \n",
      "\n",
      "\n",
      "Version: 0.7.2\n",
      "\n"
     ]
    }
   ],
   "source": [
    "import wannierberri as wberri\n",
    "import numpy as np"
   ]
  },
  {
   "cell_type": "code",
   "execution_count": 2,
   "metadata": {},
   "outputs": [
    {
     "name": "stdout",
     "output_type": "stream",
     "text": [
      "reading TB file Fe_tb.dat ( written on 25Oct2019 at 21:17:00 )\n",
      "[]\n",
      "Number of wannier functions: 18\n",
      "Number of R points: 597\n",
      "Minimal Number of K points: [13 13 13]\n",
      "Real-space lattice:\n",
      " [[ 1.4349963  1.4349963  1.4349963]\n",
      " [-1.4349963  1.4349963  1.4349963]\n",
      " [-1.4349963 -1.4349963  1.4349963]]\n",
      "Reading the system from Fe_tb.dat finished successfully\n"
     ]
    }
   ],
   "source": [
    "system=wberri.System_tb('Fe_tb.dat',getAA=True)"
   ]
  },
  {
   "cell_type": "code",
   "execution_count": 3,
   "metadata": {},
   "outputs": [
    {
     "name": "stdout",
     "output_type": "stream",
     "text": [
      "[<wannierberri.symmetry.Symmetry object at 0x7f5e61530f10>, <wannierberri.symmetry.Symmetry object at 0x7f5e61530750>, <wannierberri.symmetry.Symmetry object at 0x7f5e61530c90>]\n"
     ]
    }
   ],
   "source": [
    "generators = ['Inversion','C4z','TimeReversal*C2x']\n",
    "system.set_symmetry(generators)"
   ]
  },
  {
   "cell_type": "code",
   "execution_count": 4,
   "metadata": {},
   "outputs": [
    {
     "name": "stdout",
     "output_type": "stream",
     "text": [
      "determining grids from NK=None (<class 'NoneType'>), NKdiv=None (<class 'NoneType'>), NKFFT=None (<class 'NoneType'>)\n",
      "length=100 was converted into NK=[49 49 49]\n",
      "Minimal symmetric FFT grid :  [13 13 13]\n",
      "WARNING : the requested k-grid [49 49 49] was adjusted to [52 52 52]. Hope that it is fine\n"
     ]
    }
   ],
   "source": [
    "grid=wberri.Grid(system,length=100)"
   ]
  },
  {
   "cell_type": "code",
   "execution_count": null,
   "metadata": {},
   "outputs": [
    {
     "name": "stdout",
     "output_type": "stream",
     "text": [
      "\n",
      "Integrating the following qantities: ahc, dos, cumdos\n",
      "\n",
      "using NKdiv=[4 4 4], NKFFT=[13 13 13], NKtot=[52 52 52]\n",
      "generating K_list\n",
      "Excluding symmetry-equivalent K-points\n",
      "Done. Excluded  51 K-points in 0.21919846534729004 sec\n",
      "Done, sum of weights:1.0\n",
      "iteration 0 - 13 points. New points are:\n",
      " K-point 0 : coord in rec.lattice = [  -0.500000  ,  -0.500000 ,   -0.500000 ], refinement level:0, dK=[0.25 0.25 0.25]  \n",
      " K-point 1 : coord in rec.lattice = [  -0.500000  ,  -0.250000 ,   -0.500000 ], refinement level:0, dK=[0.25 0.25 0.25]  \n",
      " K-point 2 : coord in rec.lattice = [  -0.500000  ,   0.000000 ,   -0.500000 ], refinement level:0, dK=[0.25 0.25 0.25]  \n",
      " K-point 3 : coord in rec.lattice = [  -0.500000  ,   0.000000 ,   -0.250000 ], refinement level:0, dK=[0.25 0.25 0.25]  \n",
      " K-point 4 : coord in rec.lattice = [  -0.250000  ,  -0.500000 ,   -0.250000 ], refinement level:0, dK=[0.25 0.25 0.25]  \n",
      " K-point 5 : coord in rec.lattice = [  -0.250000  ,  -0.250000 ,   -0.250000 ], refinement level:0, dK=[0.25 0.25 0.25]  \n",
      " K-point 6 : coord in rec.lattice = [  -0.250000  ,  -0.250000 ,    0.250000 ], refinement level:0, dK=[0.25 0.25 0.25]  \n",
      " K-point 7 : coord in rec.lattice = [   0.000000  ,   0.000000 ,   -0.500000 ], refinement level:0, dK=[0.25 0.25 0.25]  \n",
      " K-point 8 : coord in rec.lattice = [   0.000000  ,   0.000000 ,    0.000000 ], refinement level:0, dK=[0.25 0.25 0.25]  \n",
      " K-point 9 : coord in rec.lattice = [   0.250000  ,  -0.250000 ,    0.250000 ], refinement level:0, dK=[0.25 0.25 0.25]  \n",
      " K-point 10 : coord in rec.lattice = [   0.250000  ,   0.000000 ,   -0.250000 ], refinement level:0, dK=[0.25 0.25 0.25]  \n",
      " K-point 11 : coord in rec.lattice = [   0.250000  ,   0.000000 ,    0.000000 ], refinement level:0, dK=[0.25 0.25 0.25]  \n",
      " K-point 12 : coord in rec.lattice = [   0.250000  ,   0.250000 ,   -0.500000 ], refinement level:0, dK=[0.25 0.25 0.25]  \n",
      "processing 13  points :\n",
      "using a pool of 16 processes\n"
     ]
    }
   ],
   "source": [
    "wberri.integrate(system, grid,\n",
    "            Efermi=np.linspace(12.,13.,1001),\n",
    "            smearEf=10, # 10K\n",
    "            quantities=[\"ahc\",\"dos\",\"cumdos\"],\n",
    "            numproc=16,\n",
    "            adpt_num_iter=10,\n",
    "            fout_name=\"Fe\")"
   ]
  },
  {
   "cell_type": "code",
   "execution_count": null,
   "metadata": {},
   "outputs": [],
   "source": [
    "wberri.tabulate(system, grid,\n",
    "             quantities=[\"berry\"],\n",
    "             fout_name=\"Fe\",\n",
    "             numproc=16,\n",
    "             ibands=np.arange(4,10),\n",
    "             Ef0=12.6)"
   ]
  },
  {
   "cell_type": "code",
   "execution_count": null,
   "metadata": {},
   "outputs": [],
   "source": []
  }
 ],
 "metadata": {
  "kernelspec": {
   "display_name": "Python 3",
   "language": "python",
   "name": "python3"
  },
  "language_info": {
   "codemirror_mode": {
    "name": "ipython",
    "version": 3
   },
   "file_extension": ".py",
   "mimetype": "text/x-python",
   "name": "python",
   "nbconvert_exporter": "python",
   "pygments_lexer": "ipython3",
   "version": "3.7.8"
  }
 },
 "nbformat": 4,
 "nbformat_minor": 4
}
